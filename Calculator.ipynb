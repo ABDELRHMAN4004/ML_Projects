{
 "cells": [
  {
   "cell_type": "code",
   "execution_count": 7,
   "id": "2caef94b-4b80-4328-9276-f0241f325ad0",
   "metadata": {},
   "outputs": [],
   "source": [
    "# وَأَن لَّيْسَ لِلْإِنسَانِ إِلَّا مَا سَعَىٰ (39) وَأَنَّ سَعْيَهُ سَوْفَ يُرَىٰ (40) ثُمَّ يُجْزَاهُ الْجَزَاءَ الْأَوْفَىٰ (41)\n",
    "\n",
    "\n",
    "import tkinter as tk\n",
    "import math\n",
    "\n",
    "def Sum():\n",
    "    try:\n",
    "        n1 = float(entry_num1.get())\n",
    "        n2 = float(entry_num2.get())\n",
    "        result_var.set(n1 + n2)\n",
    "    except ValueError:\n",
    "        result_var.set(\"Error\")\n"
   ]
  },
  {
   "cell_type": "code",
   "execution_count": 9,
   "id": "0002a409-8e68-45b4-acb0-78e2f90f24f5",
   "metadata": {},
   "outputs": [],
   "source": [
    "def Substraction():\n",
    "    try:\n",
    "        n1 = float(entry_num1.get())\n",
    "        n2 = float(entry_num2.get())\n",
    "        result_var.set(n1 - n2)\n",
    "    except ValueError:\n",
    "        result_var.set(\"Error\")\n"
   ]
  },
  {
   "cell_type": "code",
   "execution_count": 11,
   "id": "e323be35-cef9-4d30-a785-76ee89c5594d",
   "metadata": {},
   "outputs": [],
   "source": [
    "def Division():\n",
    "    try:\n",
    "        n1 = float(entry_num1.get())\n",
    "        n2 = float(entry_num2.get())\n",
    "        if n2 == 0:\n",
    "            result_var.set(\"Error: Div by 0\")\n",
    "        else:\n",
    "            result_var.set(n1 / n2)\n",
    "    except ValueError:\n",
    "        result_var.set(\"Error\")\n"
   ]
  },
  {
   "cell_type": "code",
   "execution_count": 13,
   "id": "ff4bf742-25c6-4cc1-af4d-16535f8fc588",
   "metadata": {},
   "outputs": [],
   "source": [
    "def Multiplication():\n",
    "    try:\n",
    "        n1 = float(entry_num1.get())\n",
    "        n2 = float(entry_num2.get())\n",
    "        result_var.set(n1 * n2)\n",
    "    except ValueError:\n",
    "        result_var.set(\"Error\")\n"
   ]
  },
  {
   "cell_type": "code",
   "execution_count": 15,
   "id": "7ab50769-a0b9-4afa-99cd-c3b142157563",
   "metadata": {},
   "outputs": [],
   "source": [
    "def Sin():\n",
    "    try:\n",
    "        x = float(entry_num1.get())\n",
    "        result_var.set(math.sin(math.radians(x)))  # Converting degrees to radians\n",
    "    except ValueError:\n",
    "        result_var.set(\"Error\")\n"
   ]
  },
  {
   "cell_type": "code",
   "execution_count": 17,
   "id": "a2acb970-8562-415c-9df9-a0543bcd90af",
   "metadata": {},
   "outputs": [],
   "source": [
    "def Cos():\n",
    "    try:\n",
    "        x = float(entry_num1.get())\n",
    "        result_var.set(math.cos(math.radians(x)))\n",
    "    except ValueError:\n",
    "        result_var.set(\"Error\")\n"
   ]
  },
  {
   "cell_type": "code",
   "execution_count": 19,
   "id": "2de6c005-cf9f-4d8f-a8e1-bc7ef313e4da",
   "metadata": {},
   "outputs": [],
   "source": [
    "def Tan():\n",
    "    try:\n",
    "        x = float(entry_num1.get())\n",
    "        result_var.set(math.tan(math.radians(x)))\n",
    "    except ValueError:\n",
    "        result_var.set(\"Error\")\n"
   ]
  },
  {
   "cell_type": "code",
   "execution_count": 21,
   "id": "4bb3daf2-3de6-4213-9488-7fc488088c97",
   "metadata": {},
   "outputs": [],
   "source": [
    "def Power():\n",
    "    try:\n",
    "        x = float(entry_num1.get())\n",
    "        n = float(entry_num2.get())\n",
    "        result_var.set(pow(x, n))\n",
    "    except ValueError:\n",
    "        result_var.set(\"Error\")\n"
   ]
  },
  {
   "cell_type": "code",
   "execution_count": 23,
   "id": "d1b694fc-274f-48e9-a61c-68b9816c636a",
   "metadata": {},
   "outputs": [],
   "source": [
    "def Square_root():\n",
    "    try:\n",
    "        x = float(entry_num1.get())\n",
    "        result_var.set(math.sqrt(x))\n",
    "    except ValueError:\n",
    "        result_var.set(\"Error\")\n"
   ]
  },
  {
   "cell_type": "code",
   "execution_count": 25,
   "id": "dc079bec-e08c-4517-a4bd-d80dddbe3e43",
   "metadata": {},
   "outputs": [],
   "source": [
    "def Root():\n",
    "    try:\n",
    "        x = float(entry_num1.get())\n",
    "        n = float(entry_num2.get())\n",
    "        result_var.set(pow(x, 1/n))\n",
    "    except ValueError:\n",
    "        result_var.set(\"Error\")\n"
   ]
  },
  {
   "cell_type": "code",
   "execution_count": 27,
   "id": "42d10fed-8c70-4a03-a0b2-8645cc6c91c7",
   "metadata": {},
   "outputs": [],
   "source": [
    "def Fact():\n",
    "    try:\n",
    "        n = int(entry_num1.get())\n",
    "        f = 1\n",
    "        for x in range(1, n + 1):\n",
    "            f = x * f\n",
    "        result_var.set(f)\n",
    "    except ValueError:\n",
    "        result_var.set(\"Error\")\n"
   ]
  },
  {
   "cell_type": "code",
   "execution_count": null,
   "id": "7ef03e8b-9b63-40ca-a61d-82e023f8dcd3",
   "metadata": {},
   "outputs": [],
   "source": [
    "root = tk.Tk()\n",
    "root.title(\"Scientific Calculator\")\n",
    "\n",
    "root.config(bg=\"#d3d3d3\")\n",
    "\n",
    "entry_num1 = tk.Entry(root, width=20, font=(\"Arial\", 14), bg=\"white\", borderwidth=2)\n",
    "entry_num1.grid(row=0, column=0, columnspan=2, padx=10, pady=10)\n",
    "\n",
    "entry_num2 = tk.Entry(root, width=20, font=(\"Arial\", 14), bg=\"white\", borderwidth=2)\n",
    "entry_num2.grid(row=1, column=0, columnspan=2, padx=10, pady=10)\n",
    "\n",
    "result_var = tk.StringVar()\n",
    "label_result = tk.Label(root, textvariable=result_var, font=(\"Arial\", 16), bg=\"#f5f5f5\", height=2, width=30)\n",
    "label_result.grid(row=2, column=0, columnspan=2, padx=10, pady=10)\n",
    "\n",
    "button_sum = tk.Button(root, text=\"+\", width=10, height=2, font=(\"Arial\", 14), command=Sum)\n",
    "button_sum.grid(row=3, column=0)\n",
    "\n",
    "button_sub = tk.Button(root, text=\"-\", width=10, height=2, font=(\"Arial\", 14), command=Substraction)\n",
    "button_sub.grid(row=3, column=1)\n",
    "\n",
    "button_mul = tk.Button(root, text=\"*\", width=10, height=2, font=(\"Arial\", 14), command=Multiplication)\n",
    "button_mul.grid(row=4, column=0)\n",
    "\n",
    "button_div = tk.Button(root, text=\"/\", width=10, height=2, font=(\"Arial\", 14), command=Division)\n",
    "button_div.grid(row=4, column=1)\n",
    "\n",
    "button_sin = tk.Button(root, text=\"Sin\", width=10, height=2, font=(\"Arial\", 14), command=Sin)\n",
    "button_sin.grid(row=5, column=0)\n",
    "\n",
    "button_cos = tk.Button(root, text=\"Cos\", width=10, height=2, font=(\"Arial\", 14), command=Cos)\n",
    "button_cos.grid(row=5, column=1)\n",
    "\n",
    "button_tan = tk.Button(root, text=\"Tan\", width=10, height=2, font=(\"Arial\", 14), command=Tan)\n",
    "button_tan.grid(row=6, column=0)\n",
    "\n",
    "button_pow = tk.Button(root, text=\"Pow\", width=10, height=2, font=(\"Arial\", 14), command=Power)\n",
    "button_pow.grid(row=6, column=1)\n",
    "\n",
    "button_sqrt = tk.Button(root, text=\"Sqrt\", width=10, height=2, font=(\"Arial\", 14), command=Square_root)\n",
    "button_sqrt.grid(row=7, column=0)\n",
    "\n",
    "button_root = tk.Button(root, text=\"Root\", width=10, height=2, font=(\"Arial\", 14), command=Root)\n",
    "button_root.grid(row=7, column=1)\n",
    "\n",
    "button_fact = tk.Button(root, text=\"Fact\", width=10, height=2, font=(\"Arial\", 14), command=Fact)\n",
    "button_fact.grid(row=8, column=0, columnspan=2)\n",
    "\n",
    "root.mainloop()\n"
   ]
  }
 ],
 "metadata": {
  "kernelspec": {
   "display_name": "Python 3 (ipykernel)",
   "language": "python",
   "name": "python3"
  },
  "language_info": {
   "codemirror_mode": {
    "name": "ipython",
    "version": 3
   },
   "file_extension": ".py",
   "mimetype": "text/x-python",
   "name": "python",
   "nbconvert_exporter": "python",
   "pygments_lexer": "ipython3",
   "version": "3.12.4"
  }
 },
 "nbformat": 4,
 "nbformat_minor": 5
}
