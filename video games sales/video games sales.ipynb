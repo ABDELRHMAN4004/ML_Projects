{
 "cells": [
  {
   "cell_type": "code",
   "execution_count": 1,
   "id": "a5ab8915",
   "metadata": {},
   "outputs": [],
   "source": [
    "import numpy as np\n",
    "import pandas as pd\n",
    "import matplotlib.pyplot as plt\n",
    "import seaborn as sns"
   ]
  },
  {
   "cell_type": "code",
   "execution_count": null,
   "id": "d779ba65",
   "metadata": {},
   "outputs": [],
   "source": [
    "\n",
    "file=pd.read_csv(\"video games sales.csv\")"
   ]
  },
  {
   "cell_type": "code",
   "execution_count": 3,
   "id": "7ec0b409",
   "metadata": {},
   "outputs": [
    {
     "data": {
      "application/vnd.microsoft.datawrangler.viewer.v0+json": {
       "columns": [
        {
         "name": "index",
         "rawType": "int64",
         "type": "integer"
        },
        {
         "name": "Rank",
         "rawType": "int64",
         "type": "integer"
        },
        {
         "name": "Name",
         "rawType": "object",
         "type": "string"
        },
        {
         "name": "Platform",
         "rawType": "object",
         "type": "string"
        },
        {
         "name": "Year",
         "rawType": "float64",
         "type": "float"
        },
        {
         "name": "Genre",
         "rawType": "object",
         "type": "string"
        },
        {
         "name": "Publisher",
         "rawType": "object",
         "type": "unknown"
        },
        {
         "name": "NA_Sales",
         "rawType": "float64",
         "type": "float"
        },
        {
         "name": "EU_Sales",
         "rawType": "float64",
         "type": "float"
        },
        {
         "name": "JP_Sales",
         "rawType": "float64",
         "type": "float"
        },
        {
         "name": "Other_Sales",
         "rawType": "float64",
         "type": "float"
        },
        {
         "name": "Global_Sales",
         "rawType": "float64",
         "type": "float"
        }
       ],
       "ref": "257952ce-a2c0-4c31-a12a-856462619768",
       "rows": [
        [
         "0",
         "1",
         "Wii Sports",
         "Wii",
         "2006.0",
         "Sports",
         "Nintendo",
         "41.49",
         "29.02",
         "3.77",
         "8.46",
         "82.74"
        ],
        [
         "1",
         "2",
         "Super Mario Bros.",
         "NES",
         "1985.0",
         "Platform",
         "Nintendo",
         "29.08",
         "3.58",
         "6.81",
         "0.77",
         "40.24"
        ],
        [
         "2",
         "3",
         "Mario Kart Wii",
         "Wii",
         "2008.0",
         "Racing",
         "Nintendo",
         "15.85",
         "12.88",
         "3.79",
         "3.31",
         "35.82"
        ],
        [
         "3",
         "4",
         "Wii Sports Resort",
         "Wii",
         "2009.0",
         "Sports",
         "Nintendo",
         "15.75",
         "11.01",
         "3.28",
         "2.96",
         "33.0"
        ],
        [
         "4",
         "5",
         "Pokemon Red/Pokemon Blue",
         "GB",
         "1996.0",
         "Role-Playing",
         "Nintendo",
         "11.27",
         "8.89",
         "10.22",
         "1.0",
         "31.37"
        ],
        [
         "5",
         "6",
         "Tetris",
         "GB",
         "1989.0",
         "Puzzle",
         "Nintendo",
         "23.2",
         "2.26",
         "4.22",
         "0.58",
         "30.26"
        ],
        [
         "6",
         "7",
         "New Super Mario Bros.",
         "DS",
         "2006.0",
         "Platform",
         "Nintendo",
         "11.38",
         "9.23",
         "6.5",
         "2.9",
         "30.01"
        ],
        [
         "7",
         "8",
         "Wii Play",
         "Wii",
         "2006.0",
         "Misc",
         "Nintendo",
         "14.03",
         "9.2",
         "2.93",
         "2.85",
         "29.02"
        ],
        [
         "8",
         "9",
         "New Super Mario Bros. Wii",
         "Wii",
         "2009.0",
         "Platform",
         "Nintendo",
         "14.59",
         "7.06",
         "4.7",
         "2.26",
         "28.62"
        ],
        [
         "9",
         "10",
         "Duck Hunt",
         "NES",
         "1984.0",
         "Shooter",
         "Nintendo",
         "26.93",
         "0.63",
         "0.28",
         "0.47",
         "28.31"
        ],
        [
         "10",
         "11",
         "Nintendogs",
         "DS",
         "2005.0",
         "Simulation",
         "Nintendo",
         "9.07",
         "11.0",
         "1.93",
         "2.75",
         "24.76"
        ],
        [
         "11",
         "12",
         "Mario Kart DS",
         "DS",
         "2005.0",
         "Racing",
         "Nintendo",
         "9.81",
         "7.57",
         "4.13",
         "1.92",
         "23.42"
        ],
        [
         "12",
         "13",
         "Pokemon Gold/Pokemon Silver",
         "GB",
         "1999.0",
         "Role-Playing",
         "Nintendo",
         "9.0",
         "6.18",
         "7.2",
         "0.71",
         "23.1"
        ],
        [
         "13",
         "14",
         "Wii Fit",
         "Wii",
         "2007.0",
         "Sports",
         "Nintendo",
         "8.94",
         "8.03",
         "3.6",
         "2.15",
         "22.72"
        ],
        [
         "14",
         "15",
         "Wii Fit Plus",
         "Wii",
         "2009.0",
         "Sports",
         "Nintendo",
         "9.09",
         "8.59",
         "2.53",
         "1.79",
         "22.0"
        ],
        [
         "15",
         "16",
         "Kinect Adventures!",
         "X360",
         "2010.0",
         "Misc",
         "Microsoft Game Studios",
         "14.97",
         "4.94",
         "0.24",
         "1.67",
         "21.82"
        ],
        [
         "16",
         "17",
         "Grand Theft Auto V",
         "PS3",
         "2013.0",
         "Action",
         "Take-Two Interactive",
         "7.01",
         "9.27",
         "0.97",
         "4.14",
         "21.4"
        ],
        [
         "17",
         "18",
         "Grand Theft Auto: San Andreas",
         "PS2",
         "2004.0",
         "Action",
         "Take-Two Interactive",
         "9.43",
         "0.4",
         "0.41",
         "10.57",
         "20.81"
        ],
        [
         "18",
         "19",
         "Super Mario World",
         "SNES",
         "1990.0",
         "Platform",
         "Nintendo",
         "12.78",
         "3.75",
         "3.54",
         "0.55",
         "20.61"
        ],
        [
         "19",
         "20",
         "Brain Age: Train Your Brain in Minutes a Day",
         "DS",
         "2005.0",
         "Misc",
         "Nintendo",
         "4.75",
         "9.26",
         "4.16",
         "2.05",
         "20.22"
        ],
        [
         "20",
         "21",
         "Pokemon Diamond/Pokemon Pearl",
         "DS",
         "2006.0",
         "Role-Playing",
         "Nintendo",
         "6.42",
         "4.52",
         "6.04",
         "1.37",
         "18.36"
        ],
        [
         "21",
         "22",
         "Super Mario Land",
         "GB",
         "1989.0",
         "Platform",
         "Nintendo",
         "10.83",
         "2.71",
         "4.18",
         "0.42",
         "18.14"
        ],
        [
         "22",
         "23",
         "Super Mario Bros. 3",
         "NES",
         "1988.0",
         "Platform",
         "Nintendo",
         "9.54",
         "3.44",
         "3.84",
         "0.46",
         "17.28"
        ],
        [
         "23",
         "24",
         "Grand Theft Auto V",
         "X360",
         "2013.0",
         "Action",
         "Take-Two Interactive",
         "9.63",
         "5.31",
         "0.06",
         "1.38",
         "16.38"
        ],
        [
         "24",
         "25",
         "Grand Theft Auto: Vice City",
         "PS2",
         "2002.0",
         "Action",
         "Take-Two Interactive",
         "8.41",
         "5.49",
         "0.47",
         "1.78",
         "16.15"
        ],
        [
         "25",
         "26",
         "Pokemon Ruby/Pokemon Sapphire",
         "GBA",
         "2002.0",
         "Role-Playing",
         "Nintendo",
         "6.06",
         "3.9",
         "5.38",
         "0.5",
         "15.85"
        ],
        [
         "26",
         "27",
         "Pokemon Black/Pokemon White",
         "DS",
         "2010.0",
         "Role-Playing",
         "Nintendo",
         "5.57",
         "3.28",
         "5.65",
         "0.82",
         "15.32"
        ],
        [
         "27",
         "28",
         "Brain Age 2: More Training in Minutes a Day",
         "DS",
         "2005.0",
         "Puzzle",
         "Nintendo",
         "3.44",
         "5.36",
         "5.32",
         "1.18",
         "15.3"
        ],
        [
         "28",
         "29",
         "Gran Turismo 3: A-Spec",
         "PS2",
         "2001.0",
         "Racing",
         "Sony Computer Entertainment",
         "6.85",
         "5.09",
         "1.87",
         "1.16",
         "14.98"
        ],
        [
         "29",
         "30",
         "Call of Duty: Modern Warfare 3",
         "X360",
         "2011.0",
         "Shooter",
         "Activision",
         "9.03",
         "4.28",
         "0.13",
         "1.32",
         "14.76"
        ],
        [
         "30",
         "31",
         "Pokémon Yellow: Special Pikachu Edition",
         "GB",
         "1998.0",
         "Role-Playing",
         "Nintendo",
         "5.89",
         "5.04",
         "3.12",
         "0.59",
         "14.64"
        ],
        [
         "31",
         "32",
         "Call of Duty: Black Ops",
         "X360",
         "2010.0",
         "Shooter",
         "Activision",
         "9.67",
         "3.73",
         "0.11",
         "1.13",
         "14.64"
        ],
        [
         "32",
         "33",
         "Pokemon X/Pokemon Y",
         "3DS",
         "2013.0",
         "Role-Playing",
         "Nintendo",
         "5.17",
         "4.05",
         "4.34",
         "0.79",
         "14.35"
        ],
        [
         "33",
         "34",
         "Call of Duty: Black Ops 3",
         "PS4",
         "2015.0",
         "Shooter",
         "Activision",
         "5.77",
         "5.81",
         "0.35",
         "2.31",
         "14.24"
        ],
        [
         "34",
         "35",
         "Call of Duty: Black Ops II",
         "PS3",
         "2012.0",
         "Shooter",
         "Activision",
         "4.99",
         "5.88",
         "0.65",
         "2.52",
         "14.03"
        ],
        [
         "35",
         "36",
         "Call of Duty: Black Ops II",
         "X360",
         "2012.0",
         "Shooter",
         "Activision",
         "8.25",
         "4.3",
         "0.07",
         "1.12",
         "13.73"
        ],
        [
         "36",
         "37",
         "Call of Duty: Modern Warfare 2",
         "X360",
         "2009.0",
         "Shooter",
         "Activision",
         "8.52",
         "3.63",
         "0.08",
         "1.29",
         "13.51"
        ],
        [
         "37",
         "38",
         "Call of Duty: Modern Warfare 3",
         "PS3",
         "2011.0",
         "Shooter",
         "Activision",
         "5.54",
         "5.82",
         "0.49",
         "1.62",
         "13.46"
        ],
        [
         "38",
         "39",
         "Grand Theft Auto III",
         "PS2",
         "2001.0",
         "Action",
         "Take-Two Interactive",
         "6.99",
         "4.51",
         "0.3",
         "1.3",
         "13.1"
        ],
        [
         "39",
         "40",
         "Super Smash Bros. Brawl",
         "Wii",
         "2008.0",
         "Fighting",
         "Nintendo",
         "6.75",
         "2.61",
         "2.66",
         "1.02",
         "13.04"
        ],
        [
         "40",
         "41",
         "Call of Duty: Black Ops",
         "PS3",
         "2010.0",
         "Shooter",
         "Activision",
         "5.98",
         "4.44",
         "0.48",
         "1.83",
         "12.73"
        ],
        [
         "41",
         "42",
         "Animal Crossing: Wild World",
         "DS",
         "2005.0",
         "Simulation",
         "Nintendo",
         "2.55",
         "3.52",
         "5.33",
         "0.88",
         "12.27"
        ],
        [
         "42",
         "43",
         "Mario Kart 7",
         "3DS",
         "2011.0",
         "Racing",
         "Nintendo",
         "4.74",
         "3.91",
         "2.67",
         "0.89",
         "12.21"
        ],
        [
         "43",
         "44",
         "Halo 3",
         "X360",
         "2007.0",
         "Shooter",
         "Microsoft Game Studios",
         "7.97",
         "2.83",
         "0.13",
         "1.21",
         "12.14"
        ],
        [
         "44",
         "45",
         "Grand Theft Auto V",
         "PS4",
         "2014.0",
         "Action",
         "Take-Two Interactive",
         "3.8",
         "5.81",
         "0.36",
         "2.02",
         "11.98"
        ],
        [
         "45",
         "46",
         "Pokemon HeartGold/Pokemon SoulSilver",
         "DS",
         "2009.0",
         "Action",
         "Nintendo",
         "4.4",
         "2.77",
         "3.96",
         "0.77",
         "11.9"
        ],
        [
         "46",
         "47",
         "Super Mario 64",
         "N64",
         "1996.0",
         "Platform",
         "Nintendo",
         "6.91",
         "2.85",
         "1.91",
         "0.23",
         "11.89"
        ],
        [
         "47",
         "48",
         "Gran Turismo 4",
         "PS2",
         "2004.0",
         "Racing",
         "Sony Computer Entertainment",
         "3.01",
         "0.01",
         "1.1",
         "7.53",
         "11.66"
        ],
        [
         "48",
         "49",
         "Super Mario Galaxy",
         "Wii",
         "2007.0",
         "Platform",
         "Nintendo",
         "6.16",
         "3.4",
         "1.2",
         "0.76",
         "11.52"
        ],
        [
         "49",
         "50",
         "Pokemon Omega Ruby/Pokemon Alpha Sapphire",
         "3DS",
         "2014.0",
         "Role-Playing",
         "Nintendo",
         "4.23",
         "3.37",
         "3.08",
         "0.65",
         "11.33"
        ]
       ],
       "shape": {
        "columns": 11,
        "rows": 16598
       }
      },
      "text/html": [
       "<div>\n",
       "<style scoped>\n",
       "    .dataframe tbody tr th:only-of-type {\n",
       "        vertical-align: middle;\n",
       "    }\n",
       "\n",
       "    .dataframe tbody tr th {\n",
       "        vertical-align: top;\n",
       "    }\n",
       "\n",
       "    .dataframe thead th {\n",
       "        text-align: right;\n",
       "    }\n",
       "</style>\n",
       "<table border=\"1\" class=\"dataframe\">\n",
       "  <thead>\n",
       "    <tr style=\"text-align: right;\">\n",
       "      <th></th>\n",
       "      <th>Rank</th>\n",
       "      <th>Name</th>\n",
       "      <th>Platform</th>\n",
       "      <th>Year</th>\n",
       "      <th>Genre</th>\n",
       "      <th>Publisher</th>\n",
       "      <th>NA_Sales</th>\n",
       "      <th>EU_Sales</th>\n",
       "      <th>JP_Sales</th>\n",
       "      <th>Other_Sales</th>\n",
       "      <th>Global_Sales</th>\n",
       "    </tr>\n",
       "  </thead>\n",
       "  <tbody>\n",
       "    <tr>\n",
       "      <th>0</th>\n",
       "      <td>1</td>\n",
       "      <td>Wii Sports</td>\n",
       "      <td>Wii</td>\n",
       "      <td>2006.0</td>\n",
       "      <td>Sports</td>\n",
       "      <td>Nintendo</td>\n",
       "      <td>41.49</td>\n",
       "      <td>29.02</td>\n",
       "      <td>3.77</td>\n",
       "      <td>8.46</td>\n",
       "      <td>82.74</td>\n",
       "    </tr>\n",
       "    <tr>\n",
       "      <th>1</th>\n",
       "      <td>2</td>\n",
       "      <td>Super Mario Bros.</td>\n",
       "      <td>NES</td>\n",
       "      <td>1985.0</td>\n",
       "      <td>Platform</td>\n",
       "      <td>Nintendo</td>\n",
       "      <td>29.08</td>\n",
       "      <td>3.58</td>\n",
       "      <td>6.81</td>\n",
       "      <td>0.77</td>\n",
       "      <td>40.24</td>\n",
       "    </tr>\n",
       "    <tr>\n",
       "      <th>2</th>\n",
       "      <td>3</td>\n",
       "      <td>Mario Kart Wii</td>\n",
       "      <td>Wii</td>\n",
       "      <td>2008.0</td>\n",
       "      <td>Racing</td>\n",
       "      <td>Nintendo</td>\n",
       "      <td>15.85</td>\n",
       "      <td>12.88</td>\n",
       "      <td>3.79</td>\n",
       "      <td>3.31</td>\n",
       "      <td>35.82</td>\n",
       "    </tr>\n",
       "    <tr>\n",
       "      <th>3</th>\n",
       "      <td>4</td>\n",
       "      <td>Wii Sports Resort</td>\n",
       "      <td>Wii</td>\n",
       "      <td>2009.0</td>\n",
       "      <td>Sports</td>\n",
       "      <td>Nintendo</td>\n",
       "      <td>15.75</td>\n",
       "      <td>11.01</td>\n",
       "      <td>3.28</td>\n",
       "      <td>2.96</td>\n",
       "      <td>33.00</td>\n",
       "    </tr>\n",
       "    <tr>\n",
       "      <th>4</th>\n",
       "      <td>5</td>\n",
       "      <td>Pokemon Red/Pokemon Blue</td>\n",
       "      <td>GB</td>\n",
       "      <td>1996.0</td>\n",
       "      <td>Role-Playing</td>\n",
       "      <td>Nintendo</td>\n",
       "      <td>11.27</td>\n",
       "      <td>8.89</td>\n",
       "      <td>10.22</td>\n",
       "      <td>1.00</td>\n",
       "      <td>31.37</td>\n",
       "    </tr>\n",
       "    <tr>\n",
       "      <th>...</th>\n",
       "      <td>...</td>\n",
       "      <td>...</td>\n",
       "      <td>...</td>\n",
       "      <td>...</td>\n",
       "      <td>...</td>\n",
       "      <td>...</td>\n",
       "      <td>...</td>\n",
       "      <td>...</td>\n",
       "      <td>...</td>\n",
       "      <td>...</td>\n",
       "      <td>...</td>\n",
       "    </tr>\n",
       "    <tr>\n",
       "      <th>16593</th>\n",
       "      <td>16596</td>\n",
       "      <td>Woody Woodpecker in Crazy Castle 5</td>\n",
       "      <td>GBA</td>\n",
       "      <td>2002.0</td>\n",
       "      <td>Platform</td>\n",
       "      <td>Kemco</td>\n",
       "      <td>0.01</td>\n",
       "      <td>0.00</td>\n",
       "      <td>0.00</td>\n",
       "      <td>0.00</td>\n",
       "      <td>0.01</td>\n",
       "    </tr>\n",
       "    <tr>\n",
       "      <th>16594</th>\n",
       "      <td>16597</td>\n",
       "      <td>Men in Black II: Alien Escape</td>\n",
       "      <td>GC</td>\n",
       "      <td>2003.0</td>\n",
       "      <td>Shooter</td>\n",
       "      <td>Infogrames</td>\n",
       "      <td>0.01</td>\n",
       "      <td>0.00</td>\n",
       "      <td>0.00</td>\n",
       "      <td>0.00</td>\n",
       "      <td>0.01</td>\n",
       "    </tr>\n",
       "    <tr>\n",
       "      <th>16595</th>\n",
       "      <td>16598</td>\n",
       "      <td>SCORE International Baja 1000: The Official Game</td>\n",
       "      <td>PS2</td>\n",
       "      <td>2008.0</td>\n",
       "      <td>Racing</td>\n",
       "      <td>Activision</td>\n",
       "      <td>0.00</td>\n",
       "      <td>0.00</td>\n",
       "      <td>0.00</td>\n",
       "      <td>0.00</td>\n",
       "      <td>0.01</td>\n",
       "    </tr>\n",
       "    <tr>\n",
       "      <th>16596</th>\n",
       "      <td>16599</td>\n",
       "      <td>Know How 2</td>\n",
       "      <td>DS</td>\n",
       "      <td>2010.0</td>\n",
       "      <td>Puzzle</td>\n",
       "      <td>7G//AMES</td>\n",
       "      <td>0.00</td>\n",
       "      <td>0.01</td>\n",
       "      <td>0.00</td>\n",
       "      <td>0.00</td>\n",
       "      <td>0.01</td>\n",
       "    </tr>\n",
       "    <tr>\n",
       "      <th>16597</th>\n",
       "      <td>16600</td>\n",
       "      <td>Spirits &amp; Spells</td>\n",
       "      <td>GBA</td>\n",
       "      <td>2003.0</td>\n",
       "      <td>Platform</td>\n",
       "      <td>Wanadoo</td>\n",
       "      <td>0.01</td>\n",
       "      <td>0.00</td>\n",
       "      <td>0.00</td>\n",
       "      <td>0.00</td>\n",
       "      <td>0.01</td>\n",
       "    </tr>\n",
       "  </tbody>\n",
       "</table>\n",
       "<p>16598 rows × 11 columns</p>\n",
       "</div>"
      ],
      "text/plain": [
       "        Rank                                              Name Platform  \\\n",
       "0          1                                        Wii Sports      Wii   \n",
       "1          2                                 Super Mario Bros.      NES   \n",
       "2          3                                    Mario Kart Wii      Wii   \n",
       "3          4                                 Wii Sports Resort      Wii   \n",
       "4          5                          Pokemon Red/Pokemon Blue       GB   \n",
       "...      ...                                               ...      ...   \n",
       "16593  16596                Woody Woodpecker in Crazy Castle 5      GBA   \n",
       "16594  16597                     Men in Black II: Alien Escape       GC   \n",
       "16595  16598  SCORE International Baja 1000: The Official Game      PS2   \n",
       "16596  16599                                        Know How 2       DS   \n",
       "16597  16600                                  Spirits & Spells      GBA   \n",
       "\n",
       "         Year         Genre   Publisher  NA_Sales  EU_Sales  JP_Sales  \\\n",
       "0      2006.0        Sports    Nintendo     41.49     29.02      3.77   \n",
       "1      1985.0      Platform    Nintendo     29.08      3.58      6.81   \n",
       "2      2008.0        Racing    Nintendo     15.85     12.88      3.79   \n",
       "3      2009.0        Sports    Nintendo     15.75     11.01      3.28   \n",
       "4      1996.0  Role-Playing    Nintendo     11.27      8.89     10.22   \n",
       "...       ...           ...         ...       ...       ...       ...   \n",
       "16593  2002.0      Platform       Kemco      0.01      0.00      0.00   \n",
       "16594  2003.0       Shooter  Infogrames      0.01      0.00      0.00   \n",
       "16595  2008.0        Racing  Activision      0.00      0.00      0.00   \n",
       "16596  2010.0        Puzzle    7G//AMES      0.00      0.01      0.00   \n",
       "16597  2003.0      Platform     Wanadoo      0.01      0.00      0.00   \n",
       "\n",
       "       Other_Sales  Global_Sales  \n",
       "0             8.46         82.74  \n",
       "1             0.77         40.24  \n",
       "2             3.31         35.82  \n",
       "3             2.96         33.00  \n",
       "4             1.00         31.37  \n",
       "...            ...           ...  \n",
       "16593         0.00          0.01  \n",
       "16594         0.00          0.01  \n",
       "16595         0.00          0.01  \n",
       "16596         0.00          0.01  \n",
       "16597         0.00          0.01  \n",
       "\n",
       "[16598 rows x 11 columns]"
      ]
     },
     "execution_count": 3,
     "metadata": {},
     "output_type": "execute_result"
    }
   ],
   "source": [
    "file"
   ]
  },
  {
   "cell_type": "code",
   "execution_count": null,
   "id": "11008c46",
   "metadata": {},
   "outputs": [],
   "source": []
  },
  {
   "cell_type": "code",
   "execution_count": 4,
   "id": "4c5c3038",
   "metadata": {},
   "outputs": [
    {
     "name": "stdout",
     "output_type": "stream",
     "text": [
      "<class 'pandas.core.frame.DataFrame'>\n",
      "RangeIndex: 16598 entries, 0 to 16597\n",
      "Data columns (total 11 columns):\n",
      " #   Column        Non-Null Count  Dtype  \n",
      "---  ------        --------------  -----  \n",
      " 0   Rank          16598 non-null  int64  \n",
      " 1   Name          16598 non-null  object \n",
      " 2   Platform      16598 non-null  object \n",
      " 3   Year          16327 non-null  float64\n",
      " 4   Genre         16598 non-null  object \n",
      " 5   Publisher     16540 non-null  object \n",
      " 6   NA_Sales      16598 non-null  float64\n",
      " 7   EU_Sales      16598 non-null  float64\n",
      " 8   JP_Sales      16598 non-null  float64\n",
      " 9   Other_Sales   16598 non-null  float64\n",
      " 10  Global_Sales  16598 non-null  float64\n",
      "dtypes: float64(6), int64(1), object(4)\n",
      "memory usage: 1.4+ MB\n"
     ]
    }
   ],
   "source": [
    "file.info()"
   ]
  },
  {
   "cell_type": "markdown",
   "id": "c98f3704",
   "metadata": {},
   "source": [
    "# Show null values in all file"
   ]
  },
  {
   "cell_type": "code",
   "execution_count": 5,
   "id": "1213095a",
   "metadata": {},
   "outputs": [
    {
     "name": "stdout",
     "output_type": "stream",
     "text": [
      "Column Rank: 0 missing values\n",
      "Column Name: 0 missing values\n",
      "Column Platform: 0 missing values\n",
      "Column Year: 271 missing values\n",
      "Column Genre: 0 missing values\n",
      "Column Publisher: 58 missing values\n",
      "Column NA_Sales: 0 missing values\n",
      "Column EU_Sales: 0 missing values\n",
      "Column JP_Sales: 0 missing values\n",
      "Column Other_Sales: 0 missing values\n",
      "Column Global_Sales: 0 missing values\n"
     ]
    }
   ],
   "source": [
    "for col in file.columns[:12]:\n",
    "    print(f\"Column {col}: {file[col].isnull().sum()} missing values\")\n",
    "\n",
    "        "
   ]
  },
  {
   "cell_type": "markdown",
   "id": "f97f3ef8",
   "metadata": {},
   "source": [
    "# fill nulls of [Year] col with mean value"
   ]
  },
  {
   "cell_type": "code",
   "execution_count": 6,
   "id": "6f389284",
   "metadata": {},
   "outputs": [
    {
     "name": "stderr",
     "output_type": "stream",
     "text": [
      "C:\\Users\\User.DESKTOP-OQ6NE4T\\AppData\\Local\\Temp\\ipykernel_51188\\1010389549.py:1: FutureWarning: A value is trying to be set on a copy of a DataFrame or Series through chained assignment using an inplace method.\n",
      "The behavior will change in pandas 3.0. This inplace method will never work because the intermediate object on which we are setting values always behaves as a copy.\n",
      "\n",
      "For example, when doing 'df[col].method(value, inplace=True)', try using 'df.method({col: value}, inplace=True)' or df[col] = df[col].method(value) instead, to perform the operation inplace on the original object.\n",
      "\n",
      "\n",
      "  file['Year'].fillna(value=file['Year'].mean(),inplace=True)\n"
     ]
    }
   ],
   "source": [
    "file['Year'].fillna(value=file['Year'].mean(),inplace=True)"
   ]
  },
  {
   "cell_type": "code",
   "execution_count": 7,
   "id": "38497a92",
   "metadata": {},
   "outputs": [
    {
     "data": {
      "text/plain": [
       "0"
      ]
     },
     "execution_count": 7,
     "metadata": {},
     "output_type": "execute_result"
    }
   ],
   "source": [
    "file['Year'].isnull().sum()"
   ]
  },
  {
   "cell_type": "markdown",
   "id": "9019e0b2",
   "metadata": {},
   "source": [
    "# fill nulls of [Publisher] col with mode value"
   ]
  },
  {
   "cell_type": "code",
   "execution_count": 8,
   "id": "dc809ee6",
   "metadata": {},
   "outputs": [
    {
     "name": "stderr",
     "output_type": "stream",
     "text": [
      "C:\\Users\\User.DESKTOP-OQ6NE4T\\AppData\\Local\\Temp\\ipykernel_51188\\1303767712.py:1: FutureWarning: A value is trying to be set on a copy of a DataFrame or Series through chained assignment using an inplace method.\n",
      "The behavior will change in pandas 3.0. This inplace method will never work because the intermediate object on which we are setting values always behaves as a copy.\n",
      "\n",
      "For example, when doing 'df[col].method(value, inplace=True)', try using 'df.method({col: value}, inplace=True)' or df[col] = df[col].method(value) instead, to perform the operation inplace on the original object.\n",
      "\n",
      "\n",
      "  file['Publisher'].fillna(value=file['Publisher'].mode()[0],inplace=True)\n"
     ]
    }
   ],
   "source": [
    "file['Publisher'].fillna(value=file['Publisher'].mode()[0],inplace=True)"
   ]
  },
  {
   "cell_type": "code",
   "execution_count": 9,
   "id": "a9b41484",
   "metadata": {},
   "outputs": [
    {
     "data": {
      "text/plain": [
       "0"
      ]
     },
     "execution_count": 9,
     "metadata": {},
     "output_type": "execute_result"
    }
   ],
   "source": [
    "file['Publisher'].isnull().sum()"
   ]
  },
  {
   "cell_type": "code",
   "execution_count": 10,
   "id": "aefaf300",
   "metadata": {},
   "outputs": [
    {
     "data": {
      "application/vnd.microsoft.datawrangler.viewer.v0+json": {
       "columns": [
        {
         "name": "index",
         "rawType": "object",
         "type": "string"
        },
        {
         "name": "Rank",
         "rawType": "float64",
         "type": "float"
        },
        {
         "name": "Year",
         "rawType": "float64",
         "type": "float"
        },
        {
         "name": "NA_Sales",
         "rawType": "float64",
         "type": "float"
        },
        {
         "name": "EU_Sales",
         "rawType": "float64",
         "type": "float"
        },
        {
         "name": "JP_Sales",
         "rawType": "float64",
         "type": "float"
        },
        {
         "name": "Other_Sales",
         "rawType": "float64",
         "type": "float"
        },
        {
         "name": "Global_Sales",
         "rawType": "float64",
         "type": "float"
        }
       ],
       "ref": "a7b53833-2988-493f-8a81-4e32fefd507a",
       "rows": [
        [
         "count",
         "16598.0",
         "16598.0",
         "16598.0",
         "16598.0",
         "16598.0",
         "16598.0",
         "16598.0"
        ],
        [
         "mean",
         "8300.605253645017",
         "2006.4064433147548",
         "0.26466742981082064",
         "0.14665200626581515",
         "0.077781660441017",
         "0.0480630196409206",
         "0.5374406555006628"
        ],
        [
         "std",
         "4791.853932896403",
         "5.781196716431547",
         "0.8166830292988796",
         "0.5053512312869116",
         "0.30929064808220297",
         "0.18858840291271461",
         "1.5550279355699124"
        ],
        [
         "min",
         "1.0",
         "1980.0",
         "0.0",
         "0.0",
         "0.0",
         "0.0",
         "0.01"
        ],
        [
         "25%",
         "4151.25",
         "2003.0",
         "0.0",
         "0.0",
         "0.0",
         "0.0",
         "0.06"
        ],
        [
         "50%",
         "8300.5",
         "2007.0",
         "0.08",
         "0.02",
         "0.0",
         "0.01",
         "0.17"
        ],
        [
         "75%",
         "12449.75",
         "2010.0",
         "0.24",
         "0.11",
         "0.04",
         "0.04",
         "0.47"
        ],
        [
         "max",
         "16600.0",
         "2020.0",
         "41.49",
         "29.02",
         "10.22",
         "10.57",
         "82.74"
        ]
       ],
       "shape": {
        "columns": 7,
        "rows": 8
       }
      },
      "text/html": [
       "<div>\n",
       "<style scoped>\n",
       "    .dataframe tbody tr th:only-of-type {\n",
       "        vertical-align: middle;\n",
       "    }\n",
       "\n",
       "    .dataframe tbody tr th {\n",
       "        vertical-align: top;\n",
       "    }\n",
       "\n",
       "    .dataframe thead th {\n",
       "        text-align: right;\n",
       "    }\n",
       "</style>\n",
       "<table border=\"1\" class=\"dataframe\">\n",
       "  <thead>\n",
       "    <tr style=\"text-align: right;\">\n",
       "      <th></th>\n",
       "      <th>Rank</th>\n",
       "      <th>Year</th>\n",
       "      <th>NA_Sales</th>\n",
       "      <th>EU_Sales</th>\n",
       "      <th>JP_Sales</th>\n",
       "      <th>Other_Sales</th>\n",
       "      <th>Global_Sales</th>\n",
       "    </tr>\n",
       "  </thead>\n",
       "  <tbody>\n",
       "    <tr>\n",
       "      <th>count</th>\n",
       "      <td>16598.000000</td>\n",
       "      <td>16598.000000</td>\n",
       "      <td>16598.000000</td>\n",
       "      <td>16598.000000</td>\n",
       "      <td>16598.000000</td>\n",
       "      <td>16598.000000</td>\n",
       "      <td>16598.000000</td>\n",
       "    </tr>\n",
       "    <tr>\n",
       "      <th>mean</th>\n",
       "      <td>8300.605254</td>\n",
       "      <td>2006.406443</td>\n",
       "      <td>0.264667</td>\n",
       "      <td>0.146652</td>\n",
       "      <td>0.077782</td>\n",
       "      <td>0.048063</td>\n",
       "      <td>0.537441</td>\n",
       "    </tr>\n",
       "    <tr>\n",
       "      <th>std</th>\n",
       "      <td>4791.853933</td>\n",
       "      <td>5.781197</td>\n",
       "      <td>0.816683</td>\n",
       "      <td>0.505351</td>\n",
       "      <td>0.309291</td>\n",
       "      <td>0.188588</td>\n",
       "      <td>1.555028</td>\n",
       "    </tr>\n",
       "    <tr>\n",
       "      <th>min</th>\n",
       "      <td>1.000000</td>\n",
       "      <td>1980.000000</td>\n",
       "      <td>0.000000</td>\n",
       "      <td>0.000000</td>\n",
       "      <td>0.000000</td>\n",
       "      <td>0.000000</td>\n",
       "      <td>0.010000</td>\n",
       "    </tr>\n",
       "    <tr>\n",
       "      <th>25%</th>\n",
       "      <td>4151.250000</td>\n",
       "      <td>2003.000000</td>\n",
       "      <td>0.000000</td>\n",
       "      <td>0.000000</td>\n",
       "      <td>0.000000</td>\n",
       "      <td>0.000000</td>\n",
       "      <td>0.060000</td>\n",
       "    </tr>\n",
       "    <tr>\n",
       "      <th>50%</th>\n",
       "      <td>8300.500000</td>\n",
       "      <td>2007.000000</td>\n",
       "      <td>0.080000</td>\n",
       "      <td>0.020000</td>\n",
       "      <td>0.000000</td>\n",
       "      <td>0.010000</td>\n",
       "      <td>0.170000</td>\n",
       "    </tr>\n",
       "    <tr>\n",
       "      <th>75%</th>\n",
       "      <td>12449.750000</td>\n",
       "      <td>2010.000000</td>\n",
       "      <td>0.240000</td>\n",
       "      <td>0.110000</td>\n",
       "      <td>0.040000</td>\n",
       "      <td>0.040000</td>\n",
       "      <td>0.470000</td>\n",
       "    </tr>\n",
       "    <tr>\n",
       "      <th>max</th>\n",
       "      <td>16600.000000</td>\n",
       "      <td>2020.000000</td>\n",
       "      <td>41.490000</td>\n",
       "      <td>29.020000</td>\n",
       "      <td>10.220000</td>\n",
       "      <td>10.570000</td>\n",
       "      <td>82.740000</td>\n",
       "    </tr>\n",
       "  </tbody>\n",
       "</table>\n",
       "</div>"
      ],
      "text/plain": [
       "               Rank          Year      NA_Sales      EU_Sales      JP_Sales  \\\n",
       "count  16598.000000  16598.000000  16598.000000  16598.000000  16598.000000   \n",
       "mean    8300.605254   2006.406443      0.264667      0.146652      0.077782   \n",
       "std     4791.853933      5.781197      0.816683      0.505351      0.309291   \n",
       "min        1.000000   1980.000000      0.000000      0.000000      0.000000   \n",
       "25%     4151.250000   2003.000000      0.000000      0.000000      0.000000   \n",
       "50%     8300.500000   2007.000000      0.080000      0.020000      0.000000   \n",
       "75%    12449.750000   2010.000000      0.240000      0.110000      0.040000   \n",
       "max    16600.000000   2020.000000     41.490000     29.020000     10.220000   \n",
       "\n",
       "        Other_Sales  Global_Sales  \n",
       "count  16598.000000  16598.000000  \n",
       "mean       0.048063      0.537441  \n",
       "std        0.188588      1.555028  \n",
       "min        0.000000      0.010000  \n",
       "25%        0.000000      0.060000  \n",
       "50%        0.010000      0.170000  \n",
       "75%        0.040000      0.470000  \n",
       "max       10.570000     82.740000  "
      ]
     },
     "execution_count": 10,
     "metadata": {},
     "output_type": "execute_result"
    }
   ],
   "source": [
    "file.describe()"
   ]
  },
  {
   "cell_type": "markdown",
   "id": "4cc992b3",
   "metadata": {},
   "source": [
    "# Show outliers"
   ]
  },
  {
   "cell_type": "code",
   "execution_count": 11,
   "id": "109dd9a6",
   "metadata": {},
   "outputs": [
    {
     "data": {
      "image/png": "[encoded data removed]",
      "text/plain": [
       "<Figure size 1000x800 with 5 Axes>"
      ]
     },
     "metadata": {},
     "output_type": "display_data"
    }
   ],
   "source": [
    "import seaborn as sns\n",
    "import matplotlib.pyplot as plt\n",
    "\n",
    "cols = ['NA_Sales', 'EU_Sales', 'JP_Sales', 'Other_Sales', 'Global_Sales']\n",
    "\n",
    "plt.figure(figsize=(10, 8))\n",
    "\n",
    "for i, col in enumerate(cols):\n",
    "    plt.subplot(2, 3, i+1)  \n",
    "    sns.boxplot(x=file[col], color='skyblue')\n",
    "    \n",
    "    plt.title(f'Boxplot of {col}', fontsize=12)\n",
    "    plt.xlabel(col)\n",
    "\n",
    "plt.tight_layout()\n",
    "\n",
    "plt.show()\n",
    "\n",
    "\n"
   ]
  },
  {
   "cell_type": "markdown",
   "id": "d1eb6f07",
   "metadata": {},
   "source": [
    "# Fix Outliers"
   ]
  },
  {
   "cell_type": "code",
   "execution_count": 12,
   "id": "133a5f17",
   "metadata": {},
   "outputs": [],
   "source": [
    "cols = ['NA_Sales', 'EU_Sales', 'JP_Sales', 'Other_Sales', 'Global_Sales']\n",
    "\n",
    "for col in cols:\n",
    "    Q1 = file[col].quantile(0.25)\n",
    "    Q3 = file[col].quantile(0.75)\n",
    "    IQR = Q3 - Q1\n",
    "    \n",
    "  \n",
    "    file[col] = file[col].apply(lambda x: Q1 if x < (Q1 - 1.5 * IQR) else (Q3 if x > (Q3 + 1.5 * IQR) else x))\n"
   ]
  },
  {
   "cell_type": "code",
   "execution_count": 13,
   "id": "eb3a5cde",
   "metadata": {},
   "outputs": [
    {
     "data": {
      "image/png": "[encoded data removed]",
      "text/plain": [
       "<Figure size 1000x800 with 5 Axes>"
      ]
     },
     "metadata": {},
     "output_type": "display_data"
    }
   ],
   "source": [
    "import seaborn as sns\n",
    "import matplotlib.pyplot as plt\n",
    "\n",
    "cols = ['NA_Sales', 'EU_Sales', 'JP_Sales', 'Other_Sales', 'Global_Sales']\n",
    "\n",
    "plt.figure(figsize=(10, 8))\n",
    "\n",
    "for i, col in enumerate(cols):\n",
    "    plt.subplot(2, 3, i+1)  \n",
    "    sns.boxplot(x=file[col], color='skyblue')\n",
    "    \n",
    "    plt.title(f'Boxplot of {col}', fontsize=12)\n",
    "    plt.xlabel(col)\n",
    "\n",
    "plt.tight_layout()\n",
    "\n",
    "plt.show()"
   ]
  },
  {
   "cell_type": "code",
   "execution_count": 15,
   "id": "1acaacad",
   "metadata": {},
   "outputs": [
    {
     "data": {
      "application/vnd.microsoft.datawrangler.viewer.v0+json": {
       "columns": [
        {
         "name": "Name",
         "rawType": "object",
         "type": "string"
        },
        {
         "name": "count",
         "rawType": "int64",
         "type": "integer"
        }
       ],
       "ref": "9eb225c6-8dfc-4ccc-8b92-5afccbdbe976",
       "rows": [
        [
         "Need for Speed: Most Wanted",
         "12"
        ],
        [
         "Ratatouille",
         "9"
        ],
        [
         "FIFA 14",
         "9"
        ],
        [
         "LEGO Marvel Super Heroes",
         "9"
        ],
        [
         "Madden NFL 07",
         "9"
        ],
        [
         "Cars",
         "8"
        ],
        [
         "FIFA Soccer 13",
         "8"
        ],
        [
         "LEGO The Hobbit",
         "8"
        ],
        [
         "Monopoly",
         "8"
        ],
        [
         "LEGO Jurassic World",
         "8"
        ],
        [
         "Lego Batman 3: Beyond Gotham",
         "8"
        ],
        [
         "Terraria",
         "8"
        ],
        [
         "Angry Birds Star Wars",
         "8"
        ],
        [
         "FIFA 15",
         "8"
        ],
        [
         "Madden NFL 08",
         "8"
        ],
        [
         "The LEGO Movie Videogame",
         "8"
        ],
        [
         "LEGO Harry Potter: Years 5-7",
         "8"
        ],
        [
         "LEGO Star Wars II: The Original Trilogy",
         "8"
        ],
        [
         "FIFA Soccer 11",
         "7"
        ],
        [
         "Skylanders: Trap Team",
         "7"
        ],
        [
         "Skylanders: SuperChargers",
         "7"
        ],
        [
         "FIFA Soccer 10",
         "7"
        ],
        [
         "NBA Jam",
         "7"
        ],
        [
         "Wall-E",
         "7"
        ],
        [
         "LEGO Indiana Jones: The Original Adventures",
         "7"
        ],
        [
         "Tomb Raider: Legend",
         "7"
        ],
        [
         "LEGO Batman 2: DC Super Heroes",
         "7"
        ],
        [
         "Lego Star Wars: The Force Awakens",
         "7"
        ],
        [
         "Harry Potter and the Order of the Phoenix",
         "7"
        ],
        [
         "LEGO Star Wars III: The Clone Wars",
         "7"
        ],
        [
         "Harry Potter and the Half-Blood Prince",
         "7"
        ],
        [
         "The Amazing Spider-Man 2 (2014)",
         "7"
        ],
        [
         "Need for Speed Carbon",
         "7"
        ],
        [
         "LEGO Pirates of the Caribbean: The Video Game",
         "7"
        ],
        [
         "FIFA 12",
         "7"
        ],
        [
         "Star Wars The Clone Wars: Republic Heroes",
         "7"
        ],
        [
         "Spider-Man 3",
         "7"
        ],
        [
         "LEGO Marvel's Avengers",
         "7"
        ],
        [
         "Madden NFL 06",
         "7"
        ],
        [
         "Major League Baseball 2K11",
         "7"
        ],
        [
         "Need For Speed: Undercover",
         "7"
        ],
        [
         "Harry Potter and the Sorcerer's Stone",
         "7"
        ],
        [
         "Surf's Up",
         "7"
        ],
        [
         "LEGO The Lord of the Rings",
         "7"
        ],
        [
         "Skylanders SWAP Force",
         "7"
        ],
        [
         "The Sims 2",
         "7"
        ],
        [
         "LEGO Batman: The Videogame",
         "7"
        ],
        [
         "FIFA Soccer 08",
         "7"
        ],
        [
         "Pro Evolution Soccer 2012",
         "7"
        ],
        [
         "Need for Speed: ProStreet",
         "7"
        ]
       ],
       "shape": {
        "columns": 1,
        "rows": 11493
       }
      },
      "text/plain": [
       "Name\n",
       "Need for Speed: Most Wanted                12\n",
       "Ratatouille                                 9\n",
       "FIFA 14                                     9\n",
       "LEGO Marvel Super Heroes                    9\n",
       "Madden NFL 07                               9\n",
       "                                           ..\n",
       "Ar tonelico Qoga: Knell of Ar Ciel          1\n",
       "Galaga: Destination Earth                   1\n",
       "Nintendo Presents: Crossword Collection     1\n",
       "TrackMania: Build to Race                   1\n",
       "Know How 2                                  1\n",
       "Name: count, Length: 11493, dtype: int64"
      ]
     },
     "execution_count": 15,
     "metadata": {},
     "output_type": "execute_result"
    }
   ],
   "source": [
    "file['Name'].value_counts()"
   ]
  },
  {
   "cell_type": "markdown",
   "id": "8766aa4f",
   "metadata": {},
   "source": [
    "# drop Name col"
   ]
  },
  {
   "cell_type": "code",
   "execution_count": 16,
   "id": "0e621503",
   "metadata": {},
   "outputs": [],
   "source": [
    "file.drop(columns='Name',axis=1,inplace=True)"
   ]
  },
  {
   "cell_type": "code",
   "execution_count": 17,
   "id": "5ea229b9",
   "metadata": {},
   "outputs": [
    {
     "data": {
      "application/vnd.microsoft.datawrangler.viewer.v0+json": {
       "columns": [
        {
         "name": "Genre",
         "rawType": "object",
         "type": "string"
        },
        {
         "name": "count",
         "rawType": "int64",
         "type": "integer"
        }
       ],
       "ref": "6318e7de-02c9-4824-8c0c-3cf18672323d",
       "rows": [
        [
         "Action",
         "3316"
        ],
        [
         "Sports",
         "2346"
        ],
        [
         "Misc",
         "1739"
        ],
        [
         "Role-Playing",
         "1488"
        ],
        [
         "Shooter",
         "1310"
        ],
        [
         "Adventure",
         "1286"
        ],
        [
         "Racing",
         "1249"
        ],
        [
         "Platform",
         "886"
        ],
        [
         "Simulation",
         "867"
        ],
        [
         "Fighting",
         "848"
        ],
        [
         "Strategy",
         "681"
        ],
        [
         "Puzzle",
         "582"
        ]
       ],
       "shape": {
        "columns": 1,
        "rows": 12
       }
      },
      "text/plain": [
       "Genre\n",
       "Action          3316\n",
       "Sports          2346\n",
       "Misc            1739\n",
       "Role-Playing    1488\n",
       "Shooter         1310\n",
       "Adventure       1286\n",
       "Racing          1249\n",
       "Platform         886\n",
       "Simulation       867\n",
       "Fighting         848\n",
       "Strategy         681\n",
       "Puzzle           582\n",
       "Name: count, dtype: int64"
      ]
     },
     "execution_count": 17,
     "metadata": {},
     "output_type": "execute_result"
    }
   ],
   "source": [
    "file['Genre'].value_counts()"
   ]
  },
  {
   "cell_type": "markdown",
   "id": "64926d96",
   "metadata": {},
   "source": [
    "# map Genre col with number of value count"
   ]
  },
  {
   "cell_type": "code",
   "execution_count": 18,
   "id": "fdb1707c",
   "metadata": {},
   "outputs": [],
   "source": [
    "Gener_count=file['Genre'].value_counts()\n",
    "file['Genre']=file['Genre'].map(Gener_count)"
   ]
  },
  {
   "cell_type": "code",
   "execution_count": 19,
   "id": "a40794e4",
   "metadata": {},
   "outputs": [
    {
     "data": {
      "application/vnd.microsoft.datawrangler.viewer.v0+json": {
       "columns": [
        {
         "name": "Publisher",
         "rawType": "object",
         "type": "string"
        },
        {
         "name": "count",
         "rawType": "int64",
         "type": "integer"
        }
       ],
       "ref": "8ebeb0b5-3ea3-4f01-83ae-5697cb035c71",
       "rows": [
        [
         "Electronic Arts",
         "1409"
        ],
        [
         "Activision",
         "975"
        ],
        [
         "Namco Bandai Games",
         "932"
        ],
        [
         "Ubisoft",
         "921"
        ],
        [
         "Konami Digital Entertainment",
         "832"
        ],
        [
         "THQ",
         "715"
        ],
        [
         "Nintendo",
         "703"
        ],
        [
         "Sony Computer Entertainment",
         "683"
        ],
        [
         "Sega",
         "639"
        ],
        [
         "Take-Two Interactive",
         "413"
        ],
        [
         "Capcom",
         "381"
        ],
        [
         "Atari",
         "363"
        ],
        [
         "Tecmo Koei",
         "338"
        ],
        [
         "Square Enix",
         "233"
        ],
        [
         "Warner Bros. Interactive Entertainment",
         "232"
        ],
        [
         "Disney Interactive Studios",
         "218"
        ],
        [
         "Unknown",
         "203"
        ],
        [
         "Midway Games",
         "198"
        ],
        [
         "Eidos Interactive",
         "198"
        ],
        [
         "505 Games",
         "192"
        ],
        [
         "Microsoft Game Studios",
         "189"
        ],
        [
         "D3Publisher",
         "184"
        ],
        [
         "Acclaim Entertainment",
         "184"
        ],
        [
         "Vivendi Games",
         "164"
        ],
        [
         "Codemasters",
         "152"
        ],
        [
         "Idea Factory",
         "129"
        ],
        [
         "Deep Silver",
         "122"
        ],
        [
         "Nippon Ichi Software",
         "105"
        ],
        [
         "Zoo Digital Publishing",
         "104"
        ],
        [
         "Majesco Entertainment",
         "92"
        ],
        [
         "LucasArts",
         "90"
        ],
        [
         "Rising Star Games",
         "86"
        ],
        [
         "Hudson Soft",
         "81"
        ],
        [
         "Banpresto",
         "73"
        ],
        [
         "Bethesda Softworks",
         "71"
        ],
        [
         "Crave Entertainment",
         "71"
        ],
        [
         "Atlus",
         "67"
        ],
        [
         "Virgin Interactive",
         "62"
        ],
        [
         "Infogrames",
         "62"
        ],
        [
         "Ignition Entertainment",
         "61"
        ],
        [
         "5pb",
         "61"
        ],
        [
         "Focus Home Interactive",
         "58"
        ],
        [
         "Marvelous Interactive",
         "56"
        ],
        [
         "Empire Interactive",
         "52"
        ],
        [
         "SquareSoft",
         "52"
        ],
        [
         "Kadokawa Shoten",
         "50"
        ],
        [
         "Destineer",
         "45"
        ],
        [
         "DTP Entertainment",
         "45"
        ],
        [
         "GT Interactive",
         "45"
        ],
        [
         "Alchemist",
         "43"
        ]
       ],
       "shape": {
        "columns": 1,
        "rows": 578
       }
      },
      "text/plain": [
       "Publisher\n",
       "Electronic Arts                 1409\n",
       "Activision                       975\n",
       "Namco Bandai Games               932\n",
       "Ubisoft                          921\n",
       "Konami Digital Entertainment     832\n",
       "                                ... \n",
       "Warp                               1\n",
       "New                                1\n",
       "Elite                              1\n",
       "Evolution Games                    1\n",
       "UIG Entertainment                  1\n",
       "Name: count, Length: 578, dtype: int64"
      ]
     },
     "execution_count": 19,
     "metadata": {},
     "output_type": "execute_result"
    }
   ],
   "source": [
    "file['Publisher'].value_counts()"
   ]
  },
  {
   "cell_type": "markdown",
   "id": "894774ea",
   "metadata": {},
   "source": [
    "# map publisher col with number of value count"
   ]
  },
  {
   "cell_type": "code",
   "execution_count": 20,
   "id": "86ae607b",
   "metadata": {},
   "outputs": [],
   "source": [
    "palt_count=file['Publisher'].value_counts()\n",
    "file['Publisher']=file['Publisher'].map(palt_count)"
   ]
  },
  {
   "cell_type": "code",
   "execution_count": 21,
   "id": "aa7891cf",
   "metadata": {},
   "outputs": [],
   "source": [
    "file.drop(columns='Platform',axis=1,inplace=True)"
   ]
  },
  {
   "cell_type": "markdown",
   "id": "3fb68902",
   "metadata": {},
   "source": [
    "# Show relashonship  between features"
   ]
  },
  {
   "cell_type": "markdown",
   "id": "776caa04",
   "metadata": {},
   "source": [
    "# Define features and labels"
   ]
  },
  {
   "cell_type": "code",
   "execution_count": 23,
   "id": "4968e906",
   "metadata": {},
   "outputs": [],
   "source": [
    "labels = file['Global_Sales']  \n",
    "features = file.drop(labels=['Global_Sales'], axis=1)  \n"
   ]
  },
  {
   "cell_type": "code",
   "execution_count": 24,
   "id": "a4e64a68",
   "metadata": {},
   "outputs": [],
   "source": [
    "from sklearn.model_selection import train_test_split\n",
    "\n",
    "x_train, x_test, y_train, y_test = train_test_split(features, labels, test_size=.2, random_state=42)\n"
   ]
  },
  {
   "cell_type": "markdown",
   "id": "5629e23a",
   "metadata": {},
   "source": [
    "# Select model"
   ]
  },
  {
   "cell_type": "code",
   "execution_count": 25,
   "id": "474deb19",
   "metadata": {},
   "outputs": [],
   "source": [
    "from sklearn.ensemble import AdaBoostRegressor"
   ]
  },
  {
   "cell_type": "code",
   "execution_count": 26,
   "id": "cb9de485",
   "metadata": {},
   "outputs": [
    {
     "data": {
      "text/html": [
       "<style>#sk-container-id-1 {\n",
       "  /* Definition of color scheme common for light and dark mode */\n",
       "  --sklearn-color-text: #000;\n",
       "  --sklearn-color-text-muted: #666;\n",
       "  --sklearn-color-line: gray;\n",
       "  /* Definition of color scheme for unfitted estimators */\n",
       "  --sklearn-color-unfitted-level-0: #fff5e6;\n",
       "  --sklearn-color-unfitted-level-1: #f6e4d2;\n",
       "  --sklearn-color-unfitted-level-2: #ffe0b3;\n",
       "  --sklearn-color-unfitted-level-3: chocolate;\n",
       "  /* Definition of color scheme for fitted estimators */\n",
       "  --sklearn-color-fitted-level-0: #f0f8ff;\n",
       "  --sklearn-color-fitted-level-1: #d4ebff;\n",
       "  --sklearn-color-fitted-level-2: #b3dbfd;\n",
       "  --sklearn-color-fitted-level-3: cornflowerblue;\n",
       "\n",
       "  /* Specific color for light theme */\n",
       "  --sklearn-color-text-on-default-background: var(--sg-text-color, var(--theme-code-foreground, var(--jp-content-font-color1, black)));\n",
       "  --sklearn-color-background: var(--sg-background-color, var(--theme-background, var(--jp-layout-color0, white)));\n",
       "  --sklearn-color-border-box: var(--sg-text-color, var(--theme-code-foreground, var(--jp-content-font-color1, black)));\n",
       "  --sklearn-color-icon: #696969;\n",
       "\n",
       "  @media (prefers-color-scheme: dark) {\n",
       "    /* Redefinition of color scheme for dark theme */\n",
       "    --sklearn-color-text-on-default-background: var(--sg-text-color, var(--theme-code-foreground, var(--jp-content-font-color1, white)));\n",
       "    --sklearn-color-background: var(--sg-background-color, var(--theme-background, var(--jp-layout-color0, #111)));\n",
       "    --sklearn-color-border-box: var(--sg-text-color, var(--theme-code-foreground, var(--jp-content-font-color1, white)));\n",
       "    --sklearn-color-icon: #878787;\n",
       "  }\n",
       "}\n",
       "\n",
       "#sk-container-id-1 {\n",
       "  color: var(--sklearn-color-text);\n",
       "}\n",
       "\n",
       "#sk-container-id-1 pre {\n",
       "  padding: 0;\n",
       "}\n",
       "\n",
       "#sk-container-id-1 input.sk-hidden--visually {\n",
       "  border: 0;\n",
       "  clip: rect(1px 1px 1px 1px);\n",
       "  clip: rect(1px, 1px, 1px, 1px);\n",
       "  height: 1px;\n",
       "  margin: -1px;\n",
       "  overflow: hidden;\n",
       "  padding: 0;\n",
       "  position: absolute;\n",
       "  width: 1px;\n",
       "}\n",
       "\n",
       "#sk-container-id-1 div.sk-dashed-wrapped {\n",
       "  border: 1px dashed var(--sklearn-color-line);\n",
       "  margin: 0 0.4em 0.5em 0.4em;\n",
       "  box-sizing: border-box;\n",
       "  padding-bottom: 0.4em;\n",
       "  background-color: var(--sklearn-color-background);\n",
       "}\n",
       "\n",
       "#sk-container-id-1 div.sk-container {\n",
       "  /* jupyter's `normalize.less` sets `[hidden] { display: none; }`\n",
       "     but bootstrap.min.css set `[hidden] { display: none !important; }`\n",
       "     so we also need the `!important` here to be able to override the\n",
       "     default hidden behavior on the sphinx rendered scikit-learn.org.\n",
       "     See: https://github.com/scikit-learn/scikit-learn/issues/21755 */\n",
       "  display: inline-block !important;\n",
       "  position: relative;\n",
       "}\n",
       "\n",
       "#sk-container-id-1 div.sk-text-repr-fallback {\n",
       "  display: none;\n",
       "}\n",
       "\n",
       "div.sk-parallel-item,\n",
       "div.sk-serial,\n",
       "div.sk-item {\n",
       "  /* draw centered vertical line to link estimators */\n",
       "  background-image: linear-gradient(var(--sklearn-color-text-on-default-background), var(--sklearn-color-text-on-default-background));\n",
       "  background-size: 2px 100%;\n",
       "  background-repeat: no-repeat;\n",
       "  background-position: center center;\n",
       "}\n",
       "\n",
       "/* Parallel-specific style estimator block */\n",
       "\n",
       "#sk-container-id-1 div.sk-parallel-item::after {\n",
       "  content: \"\";\n",
       "  width: 100%;\n",
       "  border-bottom: 2px solid var(--sklearn-color-text-on-default-background);\n",
       "  flex-grow: 1;\n",
       "}\n",
       "\n",
       "#sk-container-id-1 div.sk-parallel {\n",
       "  display: flex;\n",
       "  align-items: stretch;\n",
       "  justify-content: center;\n",
       "  background-color: var(--sklearn-color-background);\n",
       "  position: relative;\n",
       "}\n",
       "\n",
       "#sk-container-id-1 div.sk-parallel-item {\n",
       "  display: flex;\n",
       "  flex-direction: column;\n",
       "}\n",
       "\n",
       "#sk-container-id-1 div.sk-parallel-item:first-child::after {\n",
       "  align-self: flex-end;\n",
       "  width: 50%;\n",
       "}\n",
       "\n",
       "#sk-container-id-1 div.sk-parallel-item:last-child::after {\n",
       "  align-self: flex-start;\n",
       "  width: 50%;\n",
       "}\n",
       "\n",
       "#sk-container-id-1 div.sk-parallel-item:only-child::after {\n",
       "  width: 0;\n",
       "}\n",
       "\n",
       "/* Serial-specific style estimator block */\n",
       "\n",
       "#sk-container-id-1 div.sk-serial {\n",
       "  display: flex;\n",
       "  flex-direction: column;\n",
       "  align-items: center;\n",
       "  background-color: var(--sklearn-color-background);\n",
       "  padding-right: 1em;\n",
       "  padding-left: 1em;\n",
       "}\n",
       "\n",
       "\n",
       "/* Toggleable style: style used for estimator/Pipeline/ColumnTransformer box that is\n",
       "clickable and can be expanded/collapsed.\n",
       "- Pipeline and ColumnTransformer use this feature and define the default style\n",
       "- Estimators will overwrite some part of the style using the `sk-estimator` class\n",
       "*/\n",
       "\n",
       "/* Pipeline and ColumnTransformer style (default) */\n",
       "\n",
       "#sk-container-id-1 div.sk-toggleable {\n",
       "  /* Default theme specific background. It is overwritten whether we have a\n",
       "  specific estimator or a Pipeline/ColumnTransformer */\n",
       "  background-color: var(--sklearn-color-background);\n",
       "}\n",
       "\n",
       "/* Toggleable label */\n",
       "#sk-container-id-1 label.sk-toggleable__label {\n",
       "  cursor: pointer;\n",
       "  display: flex;\n",
       "  width: 100%;\n",
       "  margin-bottom: 0;\n",
       "  padding: 0.5em;\n",
       "  box-sizing: border-box;\n",
       "  text-align: center;\n",
       "  align-items: start;\n",
       "  justify-content: space-between;\n",
       "  gap: 0.5em;\n",
       "}\n",
       "\n",
       "#sk-container-id-1 label.sk-toggleable__label .caption {\n",
       "  font-size: 0.6rem;\n",
       "  font-weight: lighter;\n",
       "  color: var(--sklearn-color-text-muted);\n",
       "}\n",
       "\n",
       "#sk-container-id-1 label.sk-toggleable__label-arrow:before {\n",
       "  /* Arrow on the left of the label */\n",
       "  content: \"▸\";\n",
       "  float: left;\n",
       "  margin-right: 0.25em;\n",
       "  color: var(--sklearn-color-icon);\n",
       "}\n",
       "\n",
       "#sk-container-id-1 label.sk-toggleable__label-arrow:hover:before {\n",
       "  color: var(--sklearn-color-text);\n",
       "}\n",
       "\n",
       "/* Toggleable content - dropdown */\n",
       "\n",
       "#sk-container-id-1 div.sk-toggleable__content {\n",
       "  max-height: 0;\n",
       "  max-width: 0;\n",
       "  overflow: hidden;\n",
       "  text-align: left;\n",
       "  /* unfitted */\n",
       "  background-color: var(--sklearn-color-unfitted-level-0);\n",
       "}\n",
       "\n",
       "#sk-container-id-1 div.sk-toggleable__content.fitted {\n",
       "  /* fitted */\n",
       "  background-color: var(--sklearn-color-fitted-level-0);\n",
       "}\n",
       "\n",
       "#sk-container-id-1 div.sk-toggleable__content pre {\n",
       "  margin: 0.2em;\n",
       "  border-radius: 0.25em;\n",
       "  color: var(--sklearn-color-text);\n",
       "  /* unfitted */\n",
       "  background-color: var(--sklearn-color-unfitted-level-0);\n",
       "}\n",
       "\n",
       "#sk-container-id-1 div.sk-toggleable__content.fitted pre {\n",
       "  /* unfitted */\n",
       "  background-color: var(--sklearn-color-fitted-level-0);\n",
       "}\n",
       "\n",
       "#sk-container-id-1 input.sk-toggleable__control:checked~div.sk-toggleable__content {\n",
       "  /* Expand drop-down */\n",
       "  max-height: 200px;\n",
       "  max-width: 100%;\n",
       "  overflow: auto;\n",
       "}\n",
       "\n",
       "#sk-container-id-1 input.sk-toggleable__control:checked~label.sk-toggleable__label-arrow:before {\n",
       "  content: \"▾\";\n",
       "}\n",
       "\n",
       "/* Pipeline/ColumnTransformer-specific style */\n",
       "\n",
       "#sk-container-id-1 div.sk-label input.sk-toggleable__control:checked~label.sk-toggleable__label {\n",
       "  color: var(--sklearn-color-text);\n",
       "  background-color: var(--sklearn-color-unfitted-level-2);\n",
       "}\n",
       "\n",
       "#sk-container-id-1 div.sk-label.fitted input.sk-toggleable__control:checked~label.sk-toggleable__label {\n",
       "  background-color: var(--sklearn-color-fitted-level-2);\n",
       "}\n",
       "\n",
       "/* Estimator-specific style */\n",
       "\n",
       "/* Colorize estimator box */\n",
       "#sk-container-id-1 div.sk-estimator input.sk-toggleable__control:checked~label.sk-toggleable__label {\n",
       "  /* unfitted */\n",
       "  background-color: var(--sklearn-color-unfitted-level-2);\n",
       "}\n",
       "\n",
       "#sk-container-id-1 div.sk-estimator.fitted input.sk-toggleable__control:checked~label.sk-toggleable__label {\n",
       "  /* fitted */\n",
       "  background-color: var(--sklearn-color-fitted-level-2);\n",
       "}\n",
       "\n",
       "#sk-container-id-1 div.sk-label label.sk-toggleable__label,\n",
       "#sk-container-id-1 div.sk-label label {\n",
       "  /* The background is the default theme color */\n",
       "  color: var(--sklearn-color-text-on-default-background);\n",
       "}\n",
       "\n",
       "/* On hover, darken the color of the background */\n",
       "#sk-container-id-1 div.sk-label:hover label.sk-toggleable__label {\n",
       "  color: var(--sklearn-color-text);\n",
       "  background-color: var(--sklearn-color-unfitted-level-2);\n",
       "}\n",
       "\n",
       "/* Label box, darken color on hover, fitted */\n",
       "#sk-container-id-1 div.sk-label.fitted:hover label.sk-toggleable__label.fitted {\n",
       "  color: var(--sklearn-color-text);\n",
       "  background-color: var(--sklearn-color-fitted-level-2);\n",
       "}\n",
       "\n",
       "/* Estimator label */\n",
       "\n",
       "#sk-container-id-1 div.sk-label label {\n",
       "  font-family: monospace;\n",
       "  font-weight: bold;\n",
       "  display: inline-block;\n",
       "  line-height: 1.2em;\n",
       "}\n",
       "\n",
       "#sk-container-id-1 div.sk-label-container {\n",
       "  text-align: center;\n",
       "}\n",
       "\n",
       "/* Estimator-specific */\n",
       "#sk-container-id-1 div.sk-estimator {\n",
       "  font-family: monospace;\n",
       "  border: 1px dotted var(--sklearn-color-border-box);\n",
       "  border-radius: 0.25em;\n",
       "  box-sizing: border-box;\n",
       "  margin-bottom: 0.5em;\n",
       "  /* unfitted */\n",
       "  background-color: var(--sklearn-color-unfitted-level-0);\n",
       "}\n",
       "\n",
       "#sk-container-id-1 div.sk-estimator.fitted {\n",
       "  /* fitted */\n",
       "  background-color: var(--sklearn-color-fitted-level-0);\n",
       "}\n",
       "\n",
       "/* on hover */\n",
       "#sk-container-id-1 div.sk-estimator:hover {\n",
       "  /* unfitted */\n",
       "  background-color: var(--sklearn-color-unfitted-level-2);\n",
       "}\n",
       "\n",
       "#sk-container-id-1 div.sk-estimator.fitted:hover {\n",
       "  /* fitted */\n",
       "  background-color: var(--sklearn-color-fitted-level-2);\n",
       "}\n",
       "\n",
       "/* Specification for estimator info (e.g. \"i\" and \"?\") */\n",
       "\n",
       "/* Common style for \"i\" and \"?\" */\n",
       "\n",
       ".sk-estimator-doc-link,\n",
       "a:link.sk-estimator-doc-link,\n",
       "a:visited.sk-estimator-doc-link {\n",
       "  float: right;\n",
       "  font-size: smaller;\n",
       "  line-height: 1em;\n",
       "  font-family: monospace;\n",
       "  background-color: var(--sklearn-color-background);\n",
       "  border-radius: 1em;\n",
       "  height: 1em;\n",
       "  width: 1em;\n",
       "  text-decoration: none !important;\n",
       "  margin-left: 0.5em;\n",
       "  text-align: center;\n",
       "  /* unfitted */\n",
       "  border: var(--sklearn-color-unfitted-level-1) 1pt solid;\n",
       "  color: var(--sklearn-color-unfitted-level-1);\n",
       "}\n",
       "\n",
       ".sk-estimator-doc-link.fitted,\n",
       "a:link.sk-estimator-doc-link.fitted,\n",
       "a:visited.sk-estimator-doc-link.fitted {\n",
       "  /* fitted */\n",
       "  border: var(--sklearn-color-fitted-level-1) 1pt solid;\n",
       "  color: var(--sklearn-color-fitted-level-1);\n",
       "}\n",
       "\n",
       "/* On hover */\n",
       "div.sk-estimator:hover .sk-estimator-doc-link:hover,\n",
       ".sk-estimator-doc-link:hover,\n",
       "div.sk-label-container:hover .sk-estimator-doc-link:hover,\n",
       ".sk-estimator-doc-link:hover {\n",
       "  /* unfitted */\n",
       "  background-color: var(--sklearn-color-unfitted-level-3);\n",
       "  color: var(--sklearn-color-background);\n",
       "  text-decoration: none;\n",
       "}\n",
       "\n",
       "div.sk-estimator.fitted:hover .sk-estimator-doc-link.fitted:hover,\n",
       ".sk-estimator-doc-link.fitted:hover,\n",
       "div.sk-label-container:hover .sk-estimator-doc-link.fitted:hover,\n",
       ".sk-estimator-doc-link.fitted:hover {\n",
       "  /* fitted */\n",
       "  background-color: var(--sklearn-color-fitted-level-3);\n",
       "  color: var(--sklearn-color-background);\n",
       "  text-decoration: none;\n",
       "}\n",
       "\n",
       "/* Span, style for the box shown on hovering the info icon */\n",
       ".sk-estimator-doc-link span {\n",
       "  display: none;\n",
       "  z-index: 9999;\n",
       "  position: relative;\n",
       "  font-weight: normal;\n",
       "  right: .2ex;\n",
       "  padding: .5ex;\n",
       "  margin: .5ex;\n",
       "  width: min-content;\n",
       "  min-width: 20ex;\n",
       "  max-width: 50ex;\n",
       "  color: var(--sklearn-color-text);\n",
       "  box-shadow: 2pt 2pt 4pt #999;\n",
       "  /* unfitted */\n",
       "  background: var(--sklearn-color-unfitted-level-0);\n",
       "  border: .5pt solid var(--sklearn-color-unfitted-level-3);\n",
       "}\n",
       "\n",
       ".sk-estimator-doc-link.fitted span {\n",
       "  /* fitted */\n",
       "  background: var(--sklearn-color-fitted-level-0);\n",
       "  border: var(--sklearn-color-fitted-level-3);\n",
       "}\n",
       "\n",
       ".sk-estimator-doc-link:hover span {\n",
       "  display: block;\n",
       "}\n",
       "\n",
       "/* \"?\"-specific style due to the `<a>` HTML tag */\n",
       "\n",
       "#sk-container-id-1 a.estimator_doc_link {\n",
       "  float: right;\n",
       "  font-size: 1rem;\n",
       "  line-height: 1em;\n",
       "  font-family: monospace;\n",
       "  background-color: var(--sklearn-color-background);\n",
       "  border-radius: 1rem;\n",
       "  height: 1rem;\n",
       "  width: 1rem;\n",
       "  text-decoration: none;\n",
       "  /* unfitted */\n",
       "  color: var(--sklearn-color-unfitted-level-1);\n",
       "  border: var(--sklearn-color-unfitted-level-1) 1pt solid;\n",
       "}\n",
       "\n",
       "#sk-container-id-1 a.estimator_doc_link.fitted {\n",
       "  /* fitted */\n",
       "  border: var(--sklearn-color-fitted-level-1) 1pt solid;\n",
       "  color: var(--sklearn-color-fitted-level-1);\n",
       "}\n",
       "\n",
       "/* On hover */\n",
       "#sk-container-id-1 a.estimator_doc_link:hover {\n",
       "  /* unfitted */\n",
       "  background-color: var(--sklearn-color-unfitted-level-3);\n",
       "  color: var(--sklearn-color-background);\n",
       "  text-decoration: none;\n",
       "}\n",
       "\n",
       "#sk-container-id-1 a.estimator_doc_link.fitted:hover {\n",
       "  /* fitted */\n",
       "  background-color: var(--sklearn-color-fitted-level-3);\n",
       "}\n",
       "</style><div id=\"sk-container-id-1\" class=\"sk-top-container\"><div class=\"sk-text-repr-fallback\"><pre>AdaBoostRegressor()</pre><b>In a Jupyter environment, please rerun this cell to show the HTML representation or trust the notebook. <br />On GitHub, the HTML representation is unable to render, please try loading this page with nbviewer.org.</b></div><div class=\"sk-container\" hidden><div class=\"sk-item\"><div class=\"sk-estimator fitted sk-toggleable\"><input class=\"sk-toggleable__control sk-hidden--visually\" id=\"sk-estimator-id-1\" type=\"checkbox\" checked><label for=\"sk-estimator-id-1\" class=\"sk-toggleable__label fitted sk-toggleable__label-arrow\"><div><div>AdaBoostRegressor</div></div><div><a class=\"sk-estimator-doc-link fitted\" rel=\"noreferrer\" target=\"_blank\" href=\"https://scikit-learn.org/1.6/modules/generated/sklearn.ensemble.AdaBoostRegressor.html\">?<span>Documentation for AdaBoostRegressor</span></a><span class=\"sk-estimator-doc-link fitted\">i<span>Fitted</span></span></div></label><div class=\"sk-toggleable__content fitted\"><pre>AdaBoostRegressor()</pre></div> </div></div></div></div>"
      ],
      "text/plain": [
       "AdaBoostRegressor()"
      ]
     },
     "execution_count": 26,
     "metadata": {},
     "output_type": "execute_result"
    }
   ],
   "source": [
    "model_AD=AdaBoostRegressor()\n",
    "model_AD.fit(x_train,y_train)"
   ]
  },
  {
   "cell_type": "code",
   "execution_count": 27,
   "id": "b0a44ea9",
   "metadata": {},
   "outputs": [],
   "source": [
    "model_AD_pre=model_AD.predict(x_test)"
   ]
  },
  {
   "cell_type": "code",
   "execution_count": 28,
   "id": "3c0deb48",
   "metadata": {},
   "outputs": [
    {
     "name": "stdout",
     "output_type": "stream",
     "text": [
      "rmse:  0.018517707872339695\n",
      "Accuracy:  0.994097090020635\n"
     ]
    }
   ],
   "source": [
    "from sklearn.metrics import r2_score,root_mean_squared_error\n",
    "r_2=r2_score(y_test,model_AD_pre)\n",
    "rmse=root_mean_squared_error(y_test,model_AD_pre)\n",
    "\n",
    "print('rmse: ',rmse)\n",
    "print('Accuracy: ',r_2)"
   ]
  },
  {
   "cell_type": "code",
   "execution_count": null,
   "id": "91d1e755",
   "metadata": {},
   "outputs": [],
   "source": []
  },
  {
   "cell_type": "code",
   "execution_count": null,
   "id": "5ae5e75d",
   "metadata": {},
   "outputs": [],
   "source": []
  },
  {
   "cell_type": "code",
   "execution_count": null,
   "id": "b64c4b42",
   "metadata": {},
   "outputs": [],
   "source": []
  },
  {
   "cell_type": "code",
   "execution_count": null,
   "id": "45e66200",
   "metadata": {},
   "outputs": [],
   "source": []
  },
  {
   "cell_type": "code",
   "execution_count": null,
   "id": "af70202d",
   "metadata": {},
   "outputs": [],
   "source": []
  },
  {
   "cell_type": "code",
   "execution_count": null,
   "metadata": {},
   "outputs": [],
   "source": []
  }
 ],
 "metadata": {
  "kernelspec": {
   "display_name": "Python 3",
   "language": "python",
   "name": "python3"
  },
  "language_info": {
   "codemirror_mode": {
    "name": "ipython",
    "version": 3
   },
   "file_extension": ".py",
   "mimetype": "text/x-python",
   "name": "python",
   "nbconvert_exporter": "python",
   "pygments_lexer": "ipython3",
   "version": "3.10.0"
  }
 },
 "nbformat": 4,
 "nbformat_minor": 5
}
